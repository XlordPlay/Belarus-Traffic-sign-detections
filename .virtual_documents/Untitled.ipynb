#standart library
import os
import logging
from datetime import datetime

#science library
import numpy as np
import pandas as pd

#image processing
from PIL import Image
from tensorflow.keras.preprocessing.image import img_to_array
from torchvision import transforms

#models and Keras/TensorFlow layers
from keras.models import Sequential, load_model
from keras.layers import Conv2D, MaxPool2D, Dense, Flatten, Dropout
from keras.utils import to_categorical
from tensorflow.keras import backend as K

#visualizations
import matplotlib
import matplotlib.pyplot as plt
import matplotlib.patches as patches
import plotly.express as px
import plotly.graph_objects as go

#machine learning
from sklearn.model_selection import train_test_split
from sklearn.metrics import accuracy_score

import os
os.environ["CUDA_VISIBLE_DEVICES"] = "-1"


images = os.listdir('data/rtsd-frames/rtsd-frames/')
labels = pd.read_csv('data/df-full-pic/df_all_pic.csv')


root_path = 'data/rtsd-frames/rtsd-frames/'


"""
Print the first 5 lines
"""
labels.head()



labels.sign_class.unique()


labels.sign_class.describe()





labels['sign_class'] = labels['sign_class'].apply(lambda x: '3_24' if '3_24_n40' in str(x) or '3_24_n20' in str(x) or '3_24_n30' in str(x) or '3_24_n10' in str(x) or '3_24_n80' in str(x) or '3_24_n60' in str(x) or '3_24_n70' in str(x)   or '3_24_n5' in str(x) else x)
labels['sign_class'] = labels['sign_class'].apply(lambda x: '6_2' if '6_2_n50' in str(x) or '6_2_n60' in str(x) or '6_2_n70' in str(x) or '6_2_n20' in str(x) or '6_2_n40' in str(x) else x)
labels['sign_class'] = labels['sign_class'].apply(lambda x: '3_25' if '3_25_n20' in str(x)  or '3_25_n80' in str(x) or '3_25_n50' in str(x) or '3_25_n40' in str(x) or '3_25_n70' in str(x) else x)
labels['sign_class'] = labels['sign_class'].apply(lambda x: '3_4' if '3_4_n8' in str(x)  or '3_4_n2' in str(x) or '3_4_n5' in str(x) else x)
labels['sign_class'] = labels['sign_class'].apply(lambda x: '3_13' if '3_13_r4.1' in str(x)  or '3_13_r3.5' in str(x) or '3_13_r3.3' in str(x) or '3_13_r3' in str(x) or '3_13_r4' in str(x) or '3_13_r3.9' in str(x) or '3_13_r2.5' in str(x) or '3_13_r3.7' in str(x) or '3_13_r5.2' in str(x) or '3_13_r5' in str(x) else x)
labels['sign_class'] = labels['sign_class'].apply(lambda x: '3_12' if '3_12_n10' in str(x) or '3_12_n3' in str(x) or '3_12_n5' in str(x) or '3_12_n6' in str(x) else x)
labels['sign_class'] = labels['sign_class'].apply(lambda x: '3_11' if '3_11_n8' in str(x) or '3_11_n17' in str(x) or '3_11_n13'  in str(x) or '3_11_n5' in str(x) or '3_11_n9' in str(x) or '3_11_n20' in str(x) or '3_11_n23' in str(x) else x)
labels['sign_class'] = labels['sign_class'].apply(lambda x: '3_14' if '3_14_r3.5' in str(x) or '3_14_r2.7' in str(x) or '3_14_r3' in str(x)  else x)
labels['sign_class'] = labels['sign_class'].apply(lambda x: '3_16' if '3_16_n3' in str(x) or '3_16_n1' in str(x) else x)


labels["sign_class"].value_counts()








grouped_data = labels.groupby("sign_class").size().reset_index(name="count")
grouped_data = grouped_data.sort_values(by="count", ascending=False)

fig = px.bar(
    grouped_data, 
    x ="sign_class",
    y="count",labels={"sign_class" : "sign_class"},
    color_discrete_sequence=["blue"],
    title=f'Distribution of sign_class'
)

fig.update_layout(width=800, height=400)
fig.update_xaxes(showgrid=True)
fig.update_yaxes(showgrid=True)

fig.show()





grouped_data.describe()






