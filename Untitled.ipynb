{
 "cells": [
  {
   "cell_type": "code",
   "execution_count": 2,
   "id": "ef159f89-cd45-44a7-866e-3cb829b398a6",
   "metadata": {},
   "outputs": [
    {
     "name": "stderr",
     "output_type": "stream",
     "text": [
      "2024-11-14 00:21:15.291314: E external/local_xla/xla/stream_executor/cuda/cuda_fft.cc:477] Unable to register cuFFT factory: Attempting to register factory for plugin cuFFT when one has already been registered\n",
      "WARNING: All log messages before absl::InitializeLog() is called are written to STDERR\n",
      "E0000 00:00:1731532875.309480   26003 cuda_dnn.cc:8310] Unable to register cuDNN factory: Attempting to register factory for plugin cuDNN when one has already been registered\n",
      "E0000 00:00:1731532875.314870   26003 cuda_blas.cc:1418] Unable to register cuBLAS factory: Attempting to register factory for plugin cuBLAS when one has already been registered\n",
      "2024-11-14 00:21:15.333621: I tensorflow/core/platform/cpu_feature_guard.cc:210] This TensorFlow binary is optimized to use available CPU instructions in performance-critical operations.\n",
      "To enable the following instructions: AVX2 FMA, in other operations, rebuild TensorFlow with the appropriate compiler flags.\n"
     ]
    }
   ],
   "source": [
    "#standart library\n",
    "import os\n",
    "import logging\n",
    "from datetime import datetime\n",
    "\n",
    "#science library\n",
    "import numpy as np\n",
    "import pandas as pd\n",
    "\n",
    "#image processing\n",
    "from PIL import Image\n",
    "from tensorflow.keras.preprocessing.image import img_to_array\n",
    "from torchvision import transforms\n",
    "\n",
    "#models and Keras/TensorFlow layers\n",
    "from keras.models import Sequential, load_model\n",
    "from keras.layers import Conv2D, MaxPool2D, Dense, Flatten, Dropout\n",
    "from keras.utils import to_categorical\n",
    "from tensorflow.keras import backend as K\n",
    "\n",
    "#visualizations\n",
    "import matplotlib\n",
    "import matplotlib.pyplot as plt\n",
    "import matplotlib.patches as patches\n",
    "import plotly.express as px\n",
    "import plotly.graph_objects as go\n",
    "\n",
    "#machine learning\n",
    "from sklearn.model_selection import train_test_split\n",
    "from sklearn.metrics import accuracy_score\n",
    "\n",
    "import os\n",
    "os.environ[\"CUDA_VISIBLE_DEVICES\"] = \"-1\""
   ]
  },
  {
   "cell_type": "code",
   "execution_count": 6,
   "id": "103b72d0-ee22-4ceb-8e55-b149037583b9",
   "metadata": {},
   "outputs": [],
   "source": [
    "images = os.listdir('data/rtsd-frames/rtsd-frames/')\n",
    "labels = pd.read_csv('data/df-full-pic/df_all_pic.csv')"
   ]
  },
  {
   "cell_type": "code",
   "execution_count": 7,
   "id": "98f4f259-b448-4da4-9f3c-b0cd2723930e",
   "metadata": {},
   "outputs": [],
   "source": [
    "root_path = 'data/rtsd-frames/rtsd-frames/'"
   ]
  },
  {
   "cell_type": "code",
   "execution_count": 8,
   "id": "6f9f52fb-06ae-40cb-baef-ee94c6dc8d62",
   "metadata": {},
   "outputs": [
    {
     "data": {
      "text/html": [
       "<div>\n",
       "<style scoped>\n",
       "    .dataframe tbody tr th:only-of-type {\n",
       "        vertical-align: middle;\n",
       "    }\n",
       "\n",
       "    .dataframe tbody tr th {\n",
       "        vertical-align: top;\n",
       "    }\n",
       "\n",
       "    .dataframe thead th {\n",
       "        text-align: right;\n",
       "    }\n",
       "</style>\n",
       "<table border=\"1\" class=\"dataframe\">\n",
       "  <thead>\n",
       "    <tr style=\"text-align: right;\">\n",
       "      <th></th>\n",
       "      <th>filename</th>\n",
       "      <th>x_from</th>\n",
       "      <th>y_from</th>\n",
       "      <th>width</th>\n",
       "      <th>height</th>\n",
       "      <th>sign_class</th>\n",
       "      <th>sign_id</th>\n",
       "    </tr>\n",
       "  </thead>\n",
       "  <tbody>\n",
       "    <tr>\n",
       "      <th>0</th>\n",
       "      <td>autosave01_02_2012_09_13_33.jpg</td>\n",
       "      <td>649</td>\n",
       "      <td>376</td>\n",
       "      <td>18</td>\n",
       "      <td>18</td>\n",
       "      <td>2_1</td>\n",
       "      <td>0</td>\n",
       "    </tr>\n",
       "    <tr>\n",
       "      <th>1</th>\n",
       "      <td>autosave01_02_2012_09_13_34.jpg</td>\n",
       "      <td>671</td>\n",
       "      <td>356</td>\n",
       "      <td>20</td>\n",
       "      <td>21</td>\n",
       "      <td>2_1</td>\n",
       "      <td>0</td>\n",
       "    </tr>\n",
       "    <tr>\n",
       "      <th>2</th>\n",
       "      <td>autosave01_02_2012_09_13_35.jpg</td>\n",
       "      <td>711</td>\n",
       "      <td>332</td>\n",
       "      <td>27</td>\n",
       "      <td>26</td>\n",
       "      <td>2_1</td>\n",
       "      <td>0</td>\n",
       "    </tr>\n",
       "    <tr>\n",
       "      <th>3</th>\n",
       "      <td>autosave01_02_2012_09_13_36.jpg</td>\n",
       "      <td>764</td>\n",
       "      <td>290</td>\n",
       "      <td>37</td>\n",
       "      <td>36</td>\n",
       "      <td>2_1</td>\n",
       "      <td>0</td>\n",
       "    </tr>\n",
       "    <tr>\n",
       "      <th>4</th>\n",
       "      <td>autosave01_02_2012_09_13_36.jpg</td>\n",
       "      <td>684</td>\n",
       "      <td>384</td>\n",
       "      <td>17</td>\n",
       "      <td>17</td>\n",
       "      <td>1_23</td>\n",
       "      <td>1</td>\n",
       "    </tr>\n",
       "  </tbody>\n",
       "</table>\n",
       "</div>"
      ],
      "text/plain": [
       "                          filename  x_from  y_from  width  height sign_class  \\\n",
       "0  autosave01_02_2012_09_13_33.jpg     649     376     18      18        2_1   \n",
       "1  autosave01_02_2012_09_13_34.jpg     671     356     20      21        2_1   \n",
       "2  autosave01_02_2012_09_13_35.jpg     711     332     27      26        2_1   \n",
       "3  autosave01_02_2012_09_13_36.jpg     764     290     37      36        2_1   \n",
       "4  autosave01_02_2012_09_13_36.jpg     684     384     17      17       1_23   \n",
       "\n",
       "   sign_id  \n",
       "0        0  \n",
       "1        0  \n",
       "2        0  \n",
       "3        0  \n",
       "4        1  "
      ]
     },
     "execution_count": 8,
     "metadata": {},
     "output_type": "execute_result"
    }
   ],
   "source": [
    "\"\"\"\n",
    "Print the first 5 lines\n",
    "\"\"\"\n",
    "labels.head()\n"
   ]
  },
  {
   "cell_type": "code",
   "execution_count": 9,
   "id": "cccbebb4-37d8-46a5-9c48-92ad7d8e76a1",
   "metadata": {},
   "outputs": [
    {
     "data": {
      "text/plain": [
       "array(['2_1', '1_23', '1_17', '3_24_n40', '8_2_1', '5_20', '3_24_n20',\n",
       "       '5_19_1', '5_16', '3_25_n20', '6_16', '7_15', '2_2', '2_4',\n",
       "       '8_13_1', '4_2_1', '1_20_3', '1_25', '3_4_n8', '8_3_2', '3_4_1',\n",
       "       '4_1_6', '4_2_3', '4_1_1', '1_33', '5_15_5', '3_27', '1_15',\n",
       "       '4_1_2_1', '6_3_1', '8_1_1', '6_7', '5_15_3', '7_3', '1_19', '6_4',\n",
       "       '8_1_4', '8_8', '1_16', '1_11_1', '6_6', '5_15_1', '7_2', '5_15_2',\n",
       "       '7_12', '3_18', '5_6', '5_5', '7_4', '4_1_2', '8_2_2', '7_11',\n",
       "       '3_24_n5', '1_22', '1_27', '2_3_2', '5_15_2_2', '1_8', '3_13_r5',\n",
       "       '2_3', '8_3_3', '2_3_3', '7_7', '1_11', '8_13', '3_24_n30',\n",
       "       '1_12_2', '1_20', '1_12', '3_24_n60', '3_24_n70', '3_24_n50',\n",
       "       '3_32', '2_5', '3_1', '4_8_2', '3_20', '3_13_r4.5', '3_2', '2_3_6',\n",
       "       '5_22', '5_18', '2_3_5', '7_5', '8_4_1', '3_13_r3.7', '3_14_r3.7',\n",
       "       '1_2', '1_20_2', '4_1_4', '7_6', '8_1_3', '8_3_1', '4_3', '4_1_5',\n",
       "       '8_2_3', '8_2_4', '3_24_n80', '1_31', '3_10', '4_2_2', '3_13_r2.5',\n",
       "       '7_1', '3_28', '4_1_3', '5_4', '5_3', '3_25_n40', '3_13_r4',\n",
       "       '6_8_2', '3_31', '6_2_n50', '3_24_n10', '3_25_n50', '1_21', '3_21',\n",
       "       '1_13', '1_14', '6_2_n70', '2_3_4', '4_8_3', '6_15_2', '2_6',\n",
       "       '3_18_2', '4_1_2_2', '1_7', '3_19', '1_18', '2_7', '8_5_4',\n",
       "       '3_25_n80', '5_15_7', '5_14', '5_21', '1_1', '6_15_1', '3_4_n2',\n",
       "       '8_6_4', '8_15', '4_5', '3_13_r4.2', '6_2_n60', '3_11_n23',\n",
       "       '3_11_n9', '8_18', '8_4_4', '3_30', '5_7_1', '5_7_2', '1_5',\n",
       "       '3_29', '6_15_3', '5_12', '3_16_n3', '3_13_r4.3', '1_30', '5_11',\n",
       "       '1_6', '8_6_2', '6_8_3', '3_12_n10', '3_12_n6', '3_33', '3_11_n13',\n",
       "       '3_14_r2.7', '3_16_n1', '8_4_3', '5_8', '3_11_n20', '3_11_n5',\n",
       "       '8_14', '3_11_n8', '3_4_n5', '8_17', '3_6', '3_14_r3', '1_26',\n",
       "       '3_12_n5', '8_5_2', '6_8_1', '5_17', '1_10', '3_13_r3.5',\n",
       "       '3_13_r3.3', '3_13_r4.1', '3_11_n17', '8_16', '3_13_r3',\n",
       "       '3_25_n70', '6_2_n20', '3_12_n3', '3_14_r3.5', '3_13_r3.9',\n",
       "       '6_2_n40', '3_13_r5.2', '7_18', '7_14', '8_23'], dtype=object)"
      ]
     },
     "execution_count": 9,
     "metadata": {},
     "output_type": "execute_result"
    }
   ],
   "source": [
    "labels.sign_class.unique()"
   ]
  },
  {
   "cell_type": "code",
   "execution_count": 10,
   "id": "508e2c0d-5dc6-487c-b0b3-e1d524373f47",
   "metadata": {},
   "outputs": [
    {
     "data": {
      "text/plain": [
       "count     104358\n",
       "unique       198\n",
       "top       5_19_1\n",
       "freq       24264\n",
       "Name: sign_class, dtype: object"
      ]
     },
     "execution_count": 10,
     "metadata": {},
     "output_type": "execute_result"
    }
   ],
   "source": [
    "labels.sign_class.describe()"
   ]
  },
  {
   "cell_type": "markdown",
   "id": "a22bc8b8-8d6c-4ce0-ab49-3931c822596e",
   "metadata": {},
   "source": [
    "\n",
    "***Наиболее частовстречаемый класс - 5_19_1. Всего различных классов дорожных знаков в нашем датасете - 198. Как видно из подсчетов элементов в каждом классе и из графиков ниже, довольно много классов с очень маленьким количеством фотографий. Количество самого популярного класса в 2 с лишним раза больше, чем второго по популярности, что плохо.***\n",
    "\n",
    "***Если хочется убрать метки классов с буквами, которые по-разному классифицируют знаки снижения скорости 30, 60 и т.д., то можно выполнить код, представленный ниже.***\n"
   ]
  },
  {
   "cell_type": "code",
   "execution_count": 14,
   "id": "414cdcda-63f4-4b5f-aae7-5b8d0685d235",
   "metadata": {},
   "outputs": [],
   "source": [
    "labels['sign_class'] = labels['sign_class'].apply(lambda x: '3_24' if '3_24_n40' in str(x) or '3_24_n20' in str(x) or '3_24_n30' in str(x) or '3_24_n10' in str(x) or '3_24_n80' in str(x) or '3_24_n60' in str(x) or '3_24_n70' in str(x)   or '3_24_n5' in str(x) else x)\n",
    "labels['sign_class'] = labels['sign_class'].apply(lambda x: '6_2' if '6_2_n50' in str(x) or '6_2_n60' in str(x) or '6_2_n70' in str(x) or '6_2_n20' in str(x) or '6_2_n40' in str(x) else x)\n",
    "labels['sign_class'] = labels['sign_class'].apply(lambda x: '3_25' if '3_25_n20' in str(x)  or '3_25_n80' in str(x) or '3_25_n50' in str(x) or '3_25_n40' in str(x) or '3_25_n70' in str(x) else x)\n",
    "labels['sign_class'] = labels['sign_class'].apply(lambda x: '3_4' if '3_4_n8' in str(x)  or '3_4_n2' in str(x) or '3_4_n5' in str(x) else x)\n",
    "labels['sign_class'] = labels['sign_class'].apply(lambda x: '3_13' if '3_13_r4.1' in str(x)  or '3_13_r3.5' in str(x) or '3_13_r3.3' in str(x) or '3_13_r3' in str(x) or '3_13_r4' in str(x) or '3_13_r3.9' in str(x) or '3_13_r2.5' in str(x) or '3_13_r3.7' in str(x) or '3_13_r5.2' in str(x) or '3_13_r5' in str(x) else x)\n",
    "labels['sign_class'] = labels['sign_class'].apply(lambda x: '3_12' if '3_12_n10' in str(x) or '3_12_n3' in str(x) or '3_12_n5' in str(x) or '3_12_n6' in str(x) else x)\n",
    "labels['sign_class'] = labels['sign_class'].apply(lambda x: '3_11' if '3_11_n8' in str(x) or '3_11_n17' in str(x) or '3_11_n13'  in str(x) or '3_11_n5' in str(x) or '3_11_n9' in str(x) or '3_11_n20' in str(x) or '3_11_n23' in str(x) else x)\n",
    "labels['sign_class'] = labels['sign_class'].apply(lambda x: '3_14' if '3_14_r3.5' in str(x) or '3_14_r2.7' in str(x) or '3_14_r3' in str(x)  else x)\n",
    "labels['sign_class'] = labels['sign_class'].apply(lambda x: '3_16' if '3_16_n3' in str(x) or '3_16_n1' in str(x) else x)"
   ]
  },
  {
   "cell_type": "code",
   "execution_count": 15,
   "id": "e87a9f04-a916-48c3-89a2-6d0cb7996313",
   "metadata": {},
   "outputs": [
    {
     "data": {
      "text/plain": [
       "sign_class\n",
       "5_19_1    24264\n",
       "2_1       10961\n",
       "5_16       5172\n",
       "5_15_2     4944\n",
       "3_24       4104\n",
       "          ...  \n",
       "8_16          3\n",
       "4_5           2\n",
       "8_3_3         2\n",
       "2_3_5         1\n",
       "3_33          1\n",
       "Name: count, Length: 155, dtype: int64"
      ]
     },
     "execution_count": 15,
     "metadata": {},
     "output_type": "execute_result"
    }
   ],
   "source": [
    "labels[\"sign_class\"].value_counts()"
   ]
  },
  {
   "cell_type": "markdown",
   "id": "65fbf5fb-5964-4ffd-b329-992534d53cae",
   "metadata": {},
   "source": [
    "# В вышеуказанных столбцах указано: класс | количество экземпляров\n",
    "как мы можем увидеть, визуально проанализировав данные, у нас идет значительный дисбаланс классов, в котором класс \"5_19_1\" встречается чаще всех, в то время как класс \"3_33\" появился только в 1 экземпляре\n",
    "\n",
    "исходя из высказывания выше , мы можем спрогнозировать следующее:\n",
    "\n",
    "***Риск игнорирования редких классов: Модели, обученные на таких данных, могут игнорировать менее  представленные классы, что приводит к плохой производительности на этих классах.***\n"
   ]
  },
  {
   "cell_type": "markdown",
   "id": "3bc03b32-7c1f-4233-8b3a-8bd164853543",
   "metadata": {},
   "source": [
    "# Подходы к решению проблемы дисбаланса классов \n",
    "\n",
    "\n",
    "\n",
    "    1.Пересемплирование:\n",
    "        Увеличение: Добавление образцов в менее представленные классы (например, с использованием методов аугментации).\n",
    "        Уменьшение: Удаление образцов из более представленных классов, чтобы сбалансировать данные.\n",
    "\n",
    "    2.Использование взвешенных потерь: Применение методов, которые учитывают вес классов. Например, в scikit-learn можно указать параметр class_weight при обучении модели.\n",
    "\n",
    "    3.Синтетические данные: Генерация синтетических образцов для редких классов с использованием алгоритмов, таких как SMOTE (Synthetic Minority Over-sampling Technique).\n",
    "\n",
    "    4.Альтернативные метрики: Используйте метрики, которые лучше отражают производительность модели на несбалансированных данных, такие как F1-меры, матрицы ошибок или ROC-AUC, вместо точности.\n",
    "\n",
    "    5.Модели, устойчивые к дисбалансу: Некоторые алгоритмы, такие как деревья решений и случайные леса, могут быть более устойчивыми к дисбалансу классов.\n"
   ]
  },
  {
   "cell_type": "code",
   "execution_count": 17,
   "id": "59d0470c-ef57-4867-86c0-c04218c5ca78",
   "metadata": {},
   "outputs": [
    {
     "data": {
      "application/vnd.plotly.v1+json": {
       "config": {
        "plotlyServerURL": "https://plot.ly"
       },
       "data": [
        {
         "alignmentgroup": "True",
         "hovertemplate": "sign_class=%{x}<br>count=%{y}<extra></extra>",
         "legendgroup": "",
         "marker": {
          "color": "blue",
          "pattern": {
           "shape": ""
          }
         },
         "name": "",
         "offsetgroup": "",
         "orientation": "v",
         "showlegend": false,
         "textposition": "auto",
         "type": "bar",
         "x": [
          "5_19_1",
          "2_1",
          "5_16",
          "5_15_2",
          "3_24",
          "2_4",
          "3_27",
          "1_23",
          "4_1_1",
          "5_20",
          "3_20",
          "5_15_3",
          "5_15_1",
          "5_15_2_2",
          "1_17",
          "5_15_5",
          "4_2_1",
          "4_2_3",
          "4_1_4",
          "7_3",
          "6_4",
          "6_16",
          "5_5",
          "1_25",
          "8_2_1",
          "2_3_2",
          "3_1",
          "1_22",
          "6_6",
          "8_13",
          "2_3_3",
          "3_4_1",
          "2_2",
          "2_5",
          "4_2_2",
          "5_6",
          "1_11_1",
          "4_1_2",
          "5_15_7",
          "2_3",
          "1_11",
          "1_20_2",
          "3_21",
          "1_8",
          "1_16",
          "3_28",
          "7_5",
          "8_15",
          "5_14",
          "1_2",
          "3_13",
          "3_18",
          "6_3_1",
          "1_15",
          "1_1",
          "4_1_5",
          "8_1_1",
          "4_1_2_1",
          "1_12",
          "3_18_2",
          "3_25",
          "3_31",
          "8_3_1",
          "1_12_2",
          "3_2",
          "6_15_1",
          "7_2",
          "4_3",
          "6_2",
          "7_7",
          "5_7_1",
          "4_1_2_2",
          "5_7_2",
          "7_12",
          "8_13_1",
          "7_4",
          "7_11",
          "1_33",
          "8_2_2",
          "8_2_4",
          "1_14",
          "3_32",
          "1_20_3",
          "5_3",
          "1_21",
          "6_7",
          "1_20",
          "8_2_3",
          "3_11",
          "8_5_4",
          "1_27",
          "5_11",
          "3_29",
          "1_5",
          "2_6",
          "8_5_2",
          "4_1_6",
          "1_13",
          "4_8_2",
          "8_3_2",
          "7_6",
          "3_19",
          "4_1_3",
          "3_30",
          "5_21",
          "7_1",
          "3_4",
          "3_10",
          "8_4_1",
          "1_19",
          "5_22",
          "3_12",
          "8_6_4",
          "3_14",
          "6_15_2",
          "5_8",
          "8_1_4",
          "8_1_3",
          "8_4_4",
          "8_6_2",
          "8_18",
          "8_8",
          "1_10",
          "5_18",
          "1_18",
          "1_31",
          "7_15",
          "8_17",
          "1_6",
          "1_7",
          "3_6",
          "5_4",
          "1_26",
          "6_8_2",
          "2_3_4",
          "4_8_3",
          "3_16",
          "6_8_3",
          "1_30",
          "2_3_6",
          "5_17",
          "5_12",
          "7_14",
          "8_4_3",
          "2_7",
          "7_18",
          "6_8_1",
          "8_14",
          "6_15_3",
          "8_23",
          "8_16",
          "4_5",
          "8_3_3",
          "3_33",
          "2_3_5"
         ],
         "xaxis": "x",
         "y": [
          24264,
          10961,
          5172,
          4944,
          4104,
          4095,
          3558,
          2787,
          2333,
          2007,
          1803,
          1592,
          1493,
          1390,
          1256,
          1208,
          1191,
          1190,
          1166,
          1104,
          1075,
          1054,
          1027,
          1024,
          1007,
          997,
          995,
          943,
          814,
          694,
          635,
          576,
          548,
          544,
          543,
          533,
          477,
          473,
          437,
          432,
          385,
          384,
          366,
          353,
          341,
          339,
          334,
          313,
          310,
          310,
          274,
          272,
          261,
          227,
          208,
          208,
          203,
          199,
          191,
          190,
          188,
          183,
          180,
          178,
          178,
          176,
          175,
          174,
          167,
          164,
          158,
          156,
          155,
          147,
          147,
          144,
          138,
          126,
          119,
          106,
          104,
          103,
          101,
          99,
          98,
          96,
          96,
          93,
          92,
          90,
          88,
          85,
          85,
          85,
          83,
          81,
          75,
          75,
          74,
          72,
          68,
          68,
          61,
          58,
          57,
          55,
          52,
          51,
          51,
          45,
          43,
          43,
          42,
          37,
          36,
          34,
          34,
          26,
          25,
          25,
          25,
          24,
          22,
          20,
          20,
          19,
          19,
          18,
          16,
          15,
          14,
          14,
          13,
          13,
          13,
          13,
          12,
          12,
          11,
          11,
          10,
          9,
          9,
          8,
          8,
          6,
          5,
          4,
          4,
          3,
          3,
          2,
          2,
          1,
          1
         ],
         "yaxis": "y"
        }
       ],
       "layout": {
        "barmode": "relative",
        "height": 400,
        "legend": {
         "tracegroupgap": 0
        },
        "template": {
         "data": {
          "bar": [
           {
            "error_x": {
             "color": "#2a3f5f"
            },
            "error_y": {
             "color": "#2a3f5f"
            },
            "marker": {
             "line": {
              "color": "#E5ECF6",
              "width": 0.5
             },
             "pattern": {
              "fillmode": "overlay",
              "size": 10,
              "solidity": 0.2
             }
            },
            "type": "bar"
           }
          ],
          "barpolar": [
           {
            "marker": {
             "line": {
              "color": "#E5ECF6",
              "width": 0.5
             },
             "pattern": {
              "fillmode": "overlay",
              "size": 10,
              "solidity": 0.2
             }
            },
            "type": "barpolar"
           }
          ],
          "carpet": [
           {
            "aaxis": {
             "endlinecolor": "#2a3f5f",
             "gridcolor": "white",
             "linecolor": "white",
             "minorgridcolor": "white",
             "startlinecolor": "#2a3f5f"
            },
            "baxis": {
             "endlinecolor": "#2a3f5f",
             "gridcolor": "white",
             "linecolor": "white",
             "minorgridcolor": "white",
             "startlinecolor": "#2a3f5f"
            },
            "type": "carpet"
           }
          ],
          "choropleth": [
           {
            "colorbar": {
             "outlinewidth": 0,
             "ticks": ""
            },
            "type": "choropleth"
           }
          ],
          "contour": [
           {
            "colorbar": {
             "outlinewidth": 0,
             "ticks": ""
            },
            "colorscale": [
             [
              0,
              "#0d0887"
             ],
             [
              0.1111111111111111,
              "#46039f"
             ],
             [
              0.2222222222222222,
              "#7201a8"
             ],
             [
              0.3333333333333333,
              "#9c179e"
             ],
             [
              0.4444444444444444,
              "#bd3786"
             ],
             [
              0.5555555555555556,
              "#d8576b"
             ],
             [
              0.6666666666666666,
              "#ed7953"
             ],
             [
              0.7777777777777778,
              "#fb9f3a"
             ],
             [
              0.8888888888888888,
              "#fdca26"
             ],
             [
              1,
              "#f0f921"
             ]
            ],
            "type": "contour"
           }
          ],
          "contourcarpet": [
           {
            "colorbar": {
             "outlinewidth": 0,
             "ticks": ""
            },
            "type": "contourcarpet"
           }
          ],
          "heatmap": [
           {
            "colorbar": {
             "outlinewidth": 0,
             "ticks": ""
            },
            "colorscale": [
             [
              0,
              "#0d0887"
             ],
             [
              0.1111111111111111,
              "#46039f"
             ],
             [
              0.2222222222222222,
              "#7201a8"
             ],
             [
              0.3333333333333333,
              "#9c179e"
             ],
             [
              0.4444444444444444,
              "#bd3786"
             ],
             [
              0.5555555555555556,
              "#d8576b"
             ],
             [
              0.6666666666666666,
              "#ed7953"
             ],
             [
              0.7777777777777778,
              "#fb9f3a"
             ],
             [
              0.8888888888888888,
              "#fdca26"
             ],
             [
              1,
              "#f0f921"
             ]
            ],
            "type": "heatmap"
           }
          ],
          "heatmapgl": [
           {
            "colorbar": {
             "outlinewidth": 0,
             "ticks": ""
            },
            "colorscale": [
             [
              0,
              "#0d0887"
             ],
             [
              0.1111111111111111,
              "#46039f"
             ],
             [
              0.2222222222222222,
              "#7201a8"
             ],
             [
              0.3333333333333333,
              "#9c179e"
             ],
             [
              0.4444444444444444,
              "#bd3786"
             ],
             [
              0.5555555555555556,
              "#d8576b"
             ],
             [
              0.6666666666666666,
              "#ed7953"
             ],
             [
              0.7777777777777778,
              "#fb9f3a"
             ],
             [
              0.8888888888888888,
              "#fdca26"
             ],
             [
              1,
              "#f0f921"
             ]
            ],
            "type": "heatmapgl"
           }
          ],
          "histogram": [
           {
            "marker": {
             "pattern": {
              "fillmode": "overlay",
              "size": 10,
              "solidity": 0.2
             }
            },
            "type": "histogram"
           }
          ],
          "histogram2d": [
           {
            "colorbar": {
             "outlinewidth": 0,
             "ticks": ""
            },
            "colorscale": [
             [
              0,
              "#0d0887"
             ],
             [
              0.1111111111111111,
              "#46039f"
             ],
             [
              0.2222222222222222,
              "#7201a8"
             ],
             [
              0.3333333333333333,
              "#9c179e"
             ],
             [
              0.4444444444444444,
              "#bd3786"
             ],
             [
              0.5555555555555556,
              "#d8576b"
             ],
             [
              0.6666666666666666,
              "#ed7953"
             ],
             [
              0.7777777777777778,
              "#fb9f3a"
             ],
             [
              0.8888888888888888,
              "#fdca26"
             ],
             [
              1,
              "#f0f921"
             ]
            ],
            "type": "histogram2d"
           }
          ],
          "histogram2dcontour": [
           {
            "colorbar": {
             "outlinewidth": 0,
             "ticks": ""
            },
            "colorscale": [
             [
              0,
              "#0d0887"
             ],
             [
              0.1111111111111111,
              "#46039f"
             ],
             [
              0.2222222222222222,
              "#7201a8"
             ],
             [
              0.3333333333333333,
              "#9c179e"
             ],
             [
              0.4444444444444444,
              "#bd3786"
             ],
             [
              0.5555555555555556,
              "#d8576b"
             ],
             [
              0.6666666666666666,
              "#ed7953"
             ],
             [
              0.7777777777777778,
              "#fb9f3a"
             ],
             [
              0.8888888888888888,
              "#fdca26"
             ],
             [
              1,
              "#f0f921"
             ]
            ],
            "type": "histogram2dcontour"
           }
          ],
          "mesh3d": [
           {
            "colorbar": {
             "outlinewidth": 0,
             "ticks": ""
            },
            "type": "mesh3d"
           }
          ],
          "parcoords": [
           {
            "line": {
             "colorbar": {
              "outlinewidth": 0,
              "ticks": ""
             }
            },
            "type": "parcoords"
           }
          ],
          "pie": [
           {
            "automargin": true,
            "type": "pie"
           }
          ],
          "scatter": [
           {
            "fillpattern": {
             "fillmode": "overlay",
             "size": 10,
             "solidity": 0.2
            },
            "type": "scatter"
           }
          ],
          "scatter3d": [
           {
            "line": {
             "colorbar": {
              "outlinewidth": 0,
              "ticks": ""
             }
            },
            "marker": {
             "colorbar": {
              "outlinewidth": 0,
              "ticks": ""
             }
            },
            "type": "scatter3d"
           }
          ],
          "scattercarpet": [
           {
            "marker": {
             "colorbar": {
              "outlinewidth": 0,
              "ticks": ""
             }
            },
            "type": "scattercarpet"
           }
          ],
          "scattergeo": [
           {
            "marker": {
             "colorbar": {
              "outlinewidth": 0,
              "ticks": ""
             }
            },
            "type": "scattergeo"
           }
          ],
          "scattergl": [
           {
            "marker": {
             "colorbar": {
              "outlinewidth": 0,
              "ticks": ""
             }
            },
            "type": "scattergl"
           }
          ],
          "scattermapbox": [
           {
            "marker": {
             "colorbar": {
              "outlinewidth": 0,
              "ticks": ""
             }
            },
            "type": "scattermapbox"
           }
          ],
          "scatterpolar": [
           {
            "marker": {
             "colorbar": {
              "outlinewidth": 0,
              "ticks": ""
             }
            },
            "type": "scatterpolar"
           }
          ],
          "scatterpolargl": [
           {
            "marker": {
             "colorbar": {
              "outlinewidth": 0,
              "ticks": ""
             }
            },
            "type": "scatterpolargl"
           }
          ],
          "scatterternary": [
           {
            "marker": {
             "colorbar": {
              "outlinewidth": 0,
              "ticks": ""
             }
            },
            "type": "scatterternary"
           }
          ],
          "surface": [
           {
            "colorbar": {
             "outlinewidth": 0,
             "ticks": ""
            },
            "colorscale": [
             [
              0,
              "#0d0887"
             ],
             [
              0.1111111111111111,
              "#46039f"
             ],
             [
              0.2222222222222222,
              "#7201a8"
             ],
             [
              0.3333333333333333,
              "#9c179e"
             ],
             [
              0.4444444444444444,
              "#bd3786"
             ],
             [
              0.5555555555555556,
              "#d8576b"
             ],
             [
              0.6666666666666666,
              "#ed7953"
             ],
             [
              0.7777777777777778,
              "#fb9f3a"
             ],
             [
              0.8888888888888888,
              "#fdca26"
             ],
             [
              1,
              "#f0f921"
             ]
            ],
            "type": "surface"
           }
          ],
          "table": [
           {
            "cells": {
             "fill": {
              "color": "#EBF0F8"
             },
             "line": {
              "color": "white"
             }
            },
            "header": {
             "fill": {
              "color": "#C8D4E3"
             },
             "line": {
              "color": "white"
             }
            },
            "type": "table"
           }
          ]
         },
         "layout": {
          "annotationdefaults": {
           "arrowcolor": "#2a3f5f",
           "arrowhead": 0,
           "arrowwidth": 1
          },
          "autotypenumbers": "strict",
          "coloraxis": {
           "colorbar": {
            "outlinewidth": 0,
            "ticks": ""
           }
          },
          "colorscale": {
           "diverging": [
            [
             0,
             "#8e0152"
            ],
            [
             0.1,
             "#c51b7d"
            ],
            [
             0.2,
             "#de77ae"
            ],
            [
             0.3,
             "#f1b6da"
            ],
            [
             0.4,
             "#fde0ef"
            ],
            [
             0.5,
             "#f7f7f7"
            ],
            [
             0.6,
             "#e6f5d0"
            ],
            [
             0.7,
             "#b8e186"
            ],
            [
             0.8,
             "#7fbc41"
            ],
            [
             0.9,
             "#4d9221"
            ],
            [
             1,
             "#276419"
            ]
           ],
           "sequential": [
            [
             0,
             "#0d0887"
            ],
            [
             0.1111111111111111,
             "#46039f"
            ],
            [
             0.2222222222222222,
             "#7201a8"
            ],
            [
             0.3333333333333333,
             "#9c179e"
            ],
            [
             0.4444444444444444,
             "#bd3786"
            ],
            [
             0.5555555555555556,
             "#d8576b"
            ],
            [
             0.6666666666666666,
             "#ed7953"
            ],
            [
             0.7777777777777778,
             "#fb9f3a"
            ],
            [
             0.8888888888888888,
             "#fdca26"
            ],
            [
             1,
             "#f0f921"
            ]
           ],
           "sequentialminus": [
            [
             0,
             "#0d0887"
            ],
            [
             0.1111111111111111,
             "#46039f"
            ],
            [
             0.2222222222222222,
             "#7201a8"
            ],
            [
             0.3333333333333333,
             "#9c179e"
            ],
            [
             0.4444444444444444,
             "#bd3786"
            ],
            [
             0.5555555555555556,
             "#d8576b"
            ],
            [
             0.6666666666666666,
             "#ed7953"
            ],
            [
             0.7777777777777778,
             "#fb9f3a"
            ],
            [
             0.8888888888888888,
             "#fdca26"
            ],
            [
             1,
             "#f0f921"
            ]
           ]
          },
          "colorway": [
           "#636efa",
           "#EF553B",
           "#00cc96",
           "#ab63fa",
           "#FFA15A",
           "#19d3f3",
           "#FF6692",
           "#B6E880",
           "#FF97FF",
           "#FECB52"
          ],
          "font": {
           "color": "#2a3f5f"
          },
          "geo": {
           "bgcolor": "white",
           "lakecolor": "white",
           "landcolor": "#E5ECF6",
           "showlakes": true,
           "showland": true,
           "subunitcolor": "white"
          },
          "hoverlabel": {
           "align": "left"
          },
          "hovermode": "closest",
          "mapbox": {
           "style": "light"
          },
          "paper_bgcolor": "white",
          "plot_bgcolor": "#E5ECF6",
          "polar": {
           "angularaxis": {
            "gridcolor": "white",
            "linecolor": "white",
            "ticks": ""
           },
           "bgcolor": "#E5ECF6",
           "radialaxis": {
            "gridcolor": "white",
            "linecolor": "white",
            "ticks": ""
           }
          },
          "scene": {
           "xaxis": {
            "backgroundcolor": "#E5ECF6",
            "gridcolor": "white",
            "gridwidth": 2,
            "linecolor": "white",
            "showbackground": true,
            "ticks": "",
            "zerolinecolor": "white"
           },
           "yaxis": {
            "backgroundcolor": "#E5ECF6",
            "gridcolor": "white",
            "gridwidth": 2,
            "linecolor": "white",
            "showbackground": true,
            "ticks": "",
            "zerolinecolor": "white"
           },
           "zaxis": {
            "backgroundcolor": "#E5ECF6",
            "gridcolor": "white",
            "gridwidth": 2,
            "linecolor": "white",
            "showbackground": true,
            "ticks": "",
            "zerolinecolor": "white"
           }
          },
          "shapedefaults": {
           "line": {
            "color": "#2a3f5f"
           }
          },
          "ternary": {
           "aaxis": {
            "gridcolor": "white",
            "linecolor": "white",
            "ticks": ""
           },
           "baxis": {
            "gridcolor": "white",
            "linecolor": "white",
            "ticks": ""
           },
           "bgcolor": "#E5ECF6",
           "caxis": {
            "gridcolor": "white",
            "linecolor": "white",
            "ticks": ""
           }
          },
          "title": {
           "x": 0.05
          },
          "xaxis": {
           "automargin": true,
           "gridcolor": "white",
           "linecolor": "white",
           "ticks": "",
           "title": {
            "standoff": 15
           },
           "zerolinecolor": "white",
           "zerolinewidth": 2
          },
          "yaxis": {
           "automargin": true,
           "gridcolor": "white",
           "linecolor": "white",
           "ticks": "",
           "title": {
            "standoff": 15
           },
           "zerolinecolor": "white",
           "zerolinewidth": 2
          }
         }
        },
        "title": {
         "text": "Distribution of sign_class"
        },
        "width": 800,
        "xaxis": {
         "anchor": "y",
         "autorange": true,
         "domain": [
          0,
          1
         ],
         "range": [
          -0.5,
          154.5
         ],
         "showgrid": true,
         "title": {
          "text": "sign_class"
         },
         "type": "category"
        },
        "yaxis": {
         "anchor": "x",
         "autorange": true,
         "domain": [
          0,
          1
         ],
         "range": [
          0,
          25541.052631578947
         ],
         "showgrid": true,
         "title": {
          "text": "count"
         },
         "type": "linear"
        }
       }
      },
      "image/png": "[encoded data removed]",
      "text/html": [
       "<div>                            <div id=\"7614f544-c725-474a-b50c-cd929c61ea08\" class=\"plotly-graph-div\" style=\"height:400px; width:800px;\"></div>            <script type=\"text/javascript\">                require([\"plotly\"], function(Plotly) {                    window.PLOTLYENV=window.PLOTLYENV || {};                                    if (document.getElementById(\"7614f544-c725-474a-b50c-cd929c61ea08\")) {                    Plotly.newPlot(                        \"7614f544-c725-474a-b50c-cd929c61ea08\",                        [{\"alignmentgroup\":\"True\",\"hovertemplate\":\"sign_class=%{x}\\u003cbr\\u003ecount=%{y}\\u003cextra\\u003e\\u003c\\u002fextra\\u003e\",\"legendgroup\":\"\",\"marker\":{\"color\":\"blue\",\"pattern\":{\"shape\":\"\"}},\"name\":\"\",\"offsetgroup\":\"\",\"orientation\":\"v\",\"showlegend\":false,\"textposition\":\"auto\",\"x\":[\"5_19_1\",\"2_1\",\"5_16\",\"5_15_2\",\"3_24\",\"2_4\",\"3_27\",\"1_23\",\"4_1_1\",\"5_20\",\"3_20\",\"5_15_3\",\"5_15_1\",\"5_15_2_2\",\"1_17\",\"5_15_5\",\"4_2_1\",\"4_2_3\",\"4_1_4\",\"7_3\",\"6_4\",\"6_16\",\"5_5\",\"1_25\",\"8_2_1\",\"2_3_2\",\"3_1\",\"1_22\",\"6_6\",\"8_13\",\"2_3_3\",\"3_4_1\",\"2_2\",\"2_5\",\"4_2_2\",\"5_6\",\"1_11_1\",\"4_1_2\",\"5_15_7\",\"2_3\",\"1_11\",\"1_20_2\",\"3_21\",\"1_8\",\"1_16\",\"3_28\",\"7_5\",\"8_15\",\"5_14\",\"1_2\",\"3_13\",\"3_18\",\"6_3_1\",\"1_15\",\"1_1\",\"4_1_5\",\"8_1_1\",\"4_1_2_1\",\"1_12\",\"3_18_2\",\"3_25\",\"3_31\",\"8_3_1\",\"1_12_2\",\"3_2\",\"6_15_1\",\"7_2\",\"4_3\",\"6_2\",\"7_7\",\"5_7_1\",\"4_1_2_2\",\"5_7_2\",\"7_12\",\"8_13_1\",\"7_4\",\"7_11\",\"1_33\",\"8_2_2\",\"8_2_4\",\"1_14\",\"3_32\",\"1_20_3\",\"5_3\",\"1_21\",\"6_7\",\"1_20\",\"8_2_3\",\"3_11\",\"8_5_4\",\"1_27\",\"5_11\",\"3_29\",\"1_5\",\"2_6\",\"8_5_2\",\"4_1_6\",\"1_13\",\"4_8_2\",\"8_3_2\",\"7_6\",\"3_19\",\"4_1_3\",\"3_30\",\"5_21\",\"7_1\",\"3_4\",\"3_10\",\"8_4_1\",\"1_19\",\"5_22\",\"3_12\",\"8_6_4\",\"3_14\",\"6_15_2\",\"5_8\",\"8_1_4\",\"8_1_3\",\"8_4_4\",\"8_6_2\",\"8_18\",\"8_8\",\"1_10\",\"5_18\",\"1_18\",\"1_31\",\"7_15\",\"8_17\",\"1_6\",\"1_7\",\"3_6\",\"5_4\",\"1_26\",\"6_8_2\",\"2_3_4\",\"4_8_3\",\"3_16\",\"6_8_3\",\"1_30\",\"2_3_6\",\"5_17\",\"5_12\",\"7_14\",\"8_4_3\",\"2_7\",\"7_18\",\"6_8_1\",\"8_14\",\"6_15_3\",\"8_23\",\"8_16\",\"4_5\",\"8_3_3\",\"3_33\",\"2_3_5\"],\"xaxis\":\"x\",\"y\":[24264,10961,5172,4944,4104,4095,3558,2787,2333,2007,1803,1592,1493,1390,1256,1208,1191,1190,1166,1104,1075,1054,1027,1024,1007,997,995,943,814,694,635,576,548,544,543,533,477,473,437,432,385,384,366,353,341,339,334,313,310,310,274,272,261,227,208,208,203,199,191,190,188,183,180,178,178,176,175,174,167,164,158,156,155,147,147,144,138,126,119,106,104,103,101,99,98,96,96,93,92,90,88,85,85,85,83,81,75,75,74,72,68,68,61,58,57,55,52,51,51,45,43,43,42,37,36,34,34,26,25,25,25,24,22,20,20,19,19,18,16,15,14,14,13,13,13,13,12,12,11,11,10,9,9,8,8,6,5,4,4,3,3,2,2,1,1],\"yaxis\":\"y\",\"type\":\"bar\"}],                        {\"template\":{\"data\":{\"histogram2dcontour\":[{\"type\":\"histogram2dcontour\",\"colorbar\":{\"outlinewidth\":0,\"ticks\":\"\"},\"colorscale\":[[0.0,\"#0d0887\"],[0.1111111111111111,\"#46039f\"],[0.2222222222222222,\"#7201a8\"],[0.3333333333333333,\"#9c179e\"],[0.4444444444444444,\"#bd3786\"],[0.5555555555555556,\"#d8576b\"],[0.6666666666666666,\"#ed7953\"],[0.7777777777777778,\"#fb9f3a\"],[0.8888888888888888,\"#fdca26\"],[1.0,\"#f0f921\"]]}],\"choropleth\":[{\"type\":\"choropleth\",\"colorbar\":{\"outlinewidth\":0,\"ticks\":\"\"}}],\"histogram2d\":[{\"type\":\"histogram2d\",\"colorbar\":{\"outlinewidth\":0,\"ticks\":\"\"},\"colorscale\":[[0.0,\"#0d0887\"],[0.1111111111111111,\"#46039f\"],[0.2222222222222222,\"#7201a8\"],[0.3333333333333333,\"#9c179e\"],[0.4444444444444444,\"#bd3786\"],[0.5555555555555556,\"#d8576b\"],[0.6666666666666666,\"#ed7953\"],[0.7777777777777778,\"#fb9f3a\"],[0.8888888888888888,\"#fdca26\"],[1.0,\"#f0f921\"]]}],\"heatmap\":[{\"type\":\"heatmap\",\"colorbar\":{\"outlinewidth\":0,\"ticks\":\"\"},\"colorscale\":[[0.0,\"#0d0887\"],[0.1111111111111111,\"#46039f\"],[0.2222222222222222,\"#7201a8\"],[0.3333333333333333,\"#9c179e\"],[0.4444444444444444,\"#bd3786\"],[0.5555555555555556,\"#d8576b\"],[0.6666666666666666,\"#ed7953\"],[0.7777777777777778,\"#fb9f3a\"],[0.8888888888888888,\"#fdca26\"],[1.0,\"#f0f921\"]]}],\"heatmapgl\":[{\"type\":\"heatmapgl\",\"colorbar\":{\"outlinewidth\":0,\"ticks\":\"\"},\"colorscale\":[[0.0,\"#0d0887\"],[0.1111111111111111,\"#46039f\"],[0.2222222222222222,\"#7201a8\"],[0.3333333333333333,\"#9c179e\"],[0.4444444444444444,\"#bd3786\"],[0.5555555555555556,\"#d8576b\"],[0.6666666666666666,\"#ed7953\"],[0.7777777777777778,\"#fb9f3a\"],[0.8888888888888888,\"#fdca26\"],[1.0,\"#f0f921\"]]}],\"contourcarpet\":[{\"type\":\"contourcarpet\",\"colorbar\":{\"outlinewidth\":0,\"ticks\":\"\"}}],\"contour\":[{\"type\":\"contour\",\"colorbar\":{\"outlinewidth\":0,\"ticks\":\"\"},\"colorscale\":[[0.0,\"#0d0887\"],[0.1111111111111111,\"#46039f\"],[0.2222222222222222,\"#7201a8\"],[0.3333333333333333,\"#9c179e\"],[0.4444444444444444,\"#bd3786\"],[0.5555555555555556,\"#d8576b\"],[0.6666666666666666,\"#ed7953\"],[0.7777777777777778,\"#fb9f3a\"],[0.8888888888888888,\"#fdca26\"],[1.0,\"#f0f921\"]]}],\"surface\":[{\"type\":\"surface\",\"colorbar\":{\"outlinewidth\":0,\"ticks\":\"\"},\"colorscale\":[[0.0,\"#0d0887\"],[0.1111111111111111,\"#46039f\"],[0.2222222222222222,\"#7201a8\"],[0.3333333333333333,\"#9c179e\"],[0.4444444444444444,\"#bd3786\"],[0.5555555555555556,\"#d8576b\"],[0.6666666666666666,\"#ed7953\"],[0.7777777777777778,\"#fb9f3a\"],[0.8888888888888888,\"#fdca26\"],[1.0,\"#f0f921\"]]}],\"mesh3d\":[{\"type\":\"mesh3d\",\"colorbar\":{\"outlinewidth\":0,\"ticks\":\"\"}}],\"scatter\":[{\"fillpattern\":{\"fillmode\":\"overlay\",\"size\":10,\"solidity\":0.2},\"type\":\"scatter\"}],\"parcoords\":[{\"type\":\"parcoords\",\"line\":{\"colorbar\":{\"outlinewidth\":0,\"ticks\":\"\"}}}],\"scatterpolargl\":[{\"type\":\"scatterpolargl\",\"marker\":{\"colorbar\":{\"outlinewidth\":0,\"ticks\":\"\"}}}],\"bar\":[{\"error_x\":{\"color\":\"#2a3f5f\"},\"error_y\":{\"color\":\"#2a3f5f\"},\"marker\":{\"line\":{\"color\":\"#E5ECF6\",\"width\":0.5},\"pattern\":{\"fillmode\":\"overlay\",\"size\":10,\"solidity\":0.2}},\"type\":\"bar\"}],\"scattergeo\":[{\"type\":\"scattergeo\",\"marker\":{\"colorbar\":{\"outlinewidth\":0,\"ticks\":\"\"}}}],\"scatterpolar\":[{\"type\":\"scatterpolar\",\"marker\":{\"colorbar\":{\"outlinewidth\":0,\"ticks\":\"\"}}}],\"histogram\":[{\"marker\":{\"pattern\":{\"fillmode\":\"overlay\",\"size\":10,\"solidity\":0.2}},\"type\":\"histogram\"}],\"scattergl\":[{\"type\":\"scattergl\",\"marker\":{\"colorbar\":{\"outlinewidth\":0,\"ticks\":\"\"}}}],\"scatter3d\":[{\"type\":\"scatter3d\",\"line\":{\"colorbar\":{\"outlinewidth\":0,\"ticks\":\"\"}},\"marker\":{\"colorbar\":{\"outlinewidth\":0,\"ticks\":\"\"}}}],\"scattermapbox\":[{\"type\":\"scattermapbox\",\"marker\":{\"colorbar\":{\"outlinewidth\":0,\"ticks\":\"\"}}}],\"scatterternary\":[{\"type\":\"scatterternary\",\"marker\":{\"colorbar\":{\"outlinewidth\":0,\"ticks\":\"\"}}}],\"scattercarpet\":[{\"type\":\"scattercarpet\",\"marker\":{\"colorbar\":{\"outlinewidth\":0,\"ticks\":\"\"}}}],\"carpet\":[{\"aaxis\":{\"endlinecolor\":\"#2a3f5f\",\"gridcolor\":\"white\",\"linecolor\":\"white\",\"minorgridcolor\":\"white\",\"startlinecolor\":\"#2a3f5f\"},\"baxis\":{\"endlinecolor\":\"#2a3f5f\",\"gridcolor\":\"white\",\"linecolor\":\"white\",\"minorgridcolor\":\"white\",\"startlinecolor\":\"#2a3f5f\"},\"type\":\"carpet\"}],\"table\":[{\"cells\":{\"fill\":{\"color\":\"#EBF0F8\"},\"line\":{\"color\":\"white\"}},\"header\":{\"fill\":{\"color\":\"#C8D4E3\"},\"line\":{\"color\":\"white\"}},\"type\":\"table\"}],\"barpolar\":[{\"marker\":{\"line\":{\"color\":\"#E5ECF6\",\"width\":0.5},\"pattern\":{\"fillmode\":\"overlay\",\"size\":10,\"solidity\":0.2}},\"type\":\"barpolar\"}],\"pie\":[{\"automargin\":true,\"type\":\"pie\"}]},\"layout\":{\"autotypenumbers\":\"strict\",\"colorway\":[\"#636efa\",\"#EF553B\",\"#00cc96\",\"#ab63fa\",\"#FFA15A\",\"#19d3f3\",\"#FF6692\",\"#B6E880\",\"#FF97FF\",\"#FECB52\"],\"font\":{\"color\":\"#2a3f5f\"},\"hovermode\":\"closest\",\"hoverlabel\":{\"align\":\"left\"},\"paper_bgcolor\":\"white\",\"plot_bgcolor\":\"#E5ECF6\",\"polar\":{\"bgcolor\":\"#E5ECF6\",\"angularaxis\":{\"gridcolor\":\"white\",\"linecolor\":\"white\",\"ticks\":\"\"},\"radialaxis\":{\"gridcolor\":\"white\",\"linecolor\":\"white\",\"ticks\":\"\"}},\"ternary\":{\"bgcolor\":\"#E5ECF6\",\"aaxis\":{\"gridcolor\":\"white\",\"linecolor\":\"white\",\"ticks\":\"\"},\"baxis\":{\"gridcolor\":\"white\",\"linecolor\":\"white\",\"ticks\":\"\"},\"caxis\":{\"gridcolor\":\"white\",\"linecolor\":\"white\",\"ticks\":\"\"}},\"coloraxis\":{\"colorbar\":{\"outlinewidth\":0,\"ticks\":\"\"}},\"colorscale\":{\"sequential\":[[0.0,\"#0d0887\"],[0.1111111111111111,\"#46039f\"],[0.2222222222222222,\"#7201a8\"],[0.3333333333333333,\"#9c179e\"],[0.4444444444444444,\"#bd3786\"],[0.5555555555555556,\"#d8576b\"],[0.6666666666666666,\"#ed7953\"],[0.7777777777777778,\"#fb9f3a\"],[0.8888888888888888,\"#fdca26\"],[1.0,\"#f0f921\"]],\"sequentialminus\":[[0.0,\"#0d0887\"],[0.1111111111111111,\"#46039f\"],[0.2222222222222222,\"#7201a8\"],[0.3333333333333333,\"#9c179e\"],[0.4444444444444444,\"#bd3786\"],[0.5555555555555556,\"#d8576b\"],[0.6666666666666666,\"#ed7953\"],[0.7777777777777778,\"#fb9f3a\"],[0.8888888888888888,\"#fdca26\"],[1.0,\"#f0f921\"]],\"diverging\":[[0,\"#8e0152\"],[0.1,\"#c51b7d\"],[0.2,\"#de77ae\"],[0.3,\"#f1b6da\"],[0.4,\"#fde0ef\"],[0.5,\"#f7f7f7\"],[0.6,\"#e6f5d0\"],[0.7,\"#b8e186\"],[0.8,\"#7fbc41\"],[0.9,\"#4d9221\"],[1,\"#276419\"]]},\"xaxis\":{\"gridcolor\":\"white\",\"linecolor\":\"white\",\"ticks\":\"\",\"title\":{\"standoff\":15},\"zerolinecolor\":\"white\",\"automargin\":true,\"zerolinewidth\":2},\"yaxis\":{\"gridcolor\":\"white\",\"linecolor\":\"white\",\"ticks\":\"\",\"title\":{\"standoff\":15},\"zerolinecolor\":\"white\",\"automargin\":true,\"zerolinewidth\":2},\"scene\":{\"xaxis\":{\"backgroundcolor\":\"#E5ECF6\",\"gridcolor\":\"white\",\"linecolor\":\"white\",\"showbackground\":true,\"ticks\":\"\",\"zerolinecolor\":\"white\",\"gridwidth\":2},\"yaxis\":{\"backgroundcolor\":\"#E5ECF6\",\"gridcolor\":\"white\",\"linecolor\":\"white\",\"showbackground\":true,\"ticks\":\"\",\"zerolinecolor\":\"white\",\"gridwidth\":2},\"zaxis\":{\"backgroundcolor\":\"#E5ECF6\",\"gridcolor\":\"white\",\"linecolor\":\"white\",\"showbackground\":true,\"ticks\":\"\",\"zerolinecolor\":\"white\",\"gridwidth\":2}},\"shapedefaults\":{\"line\":{\"color\":\"#2a3f5f\"}},\"annotationdefaults\":{\"arrowcolor\":\"#2a3f5f\",\"arrowhead\":0,\"arrowwidth\":1},\"geo\":{\"bgcolor\":\"white\",\"landcolor\":\"#E5ECF6\",\"subunitcolor\":\"white\",\"showland\":true,\"showlakes\":true,\"lakecolor\":\"white\"},\"title\":{\"x\":0.05},\"mapbox\":{\"style\":\"light\"}}},\"xaxis\":{\"anchor\":\"y\",\"domain\":[0.0,1.0],\"title\":{\"text\":\"sign_class\"},\"showgrid\":true},\"yaxis\":{\"anchor\":\"x\",\"domain\":[0.0,1.0],\"title\":{\"text\":\"count\"},\"showgrid\":true},\"legend\":{\"tracegroupgap\":0},\"title\":{\"text\":\"Distribution of sign_class\"},\"barmode\":\"relative\",\"width\":800,\"height\":400},                        {\"responsive\": true}                    ).then(function(){\n",
       "                            \n",
       "var gd = document.getElementById('7614f544-c725-474a-b50c-cd929c61ea08');\n",
       "var x = new MutationObserver(function (mutations, observer) {{\n",
       "        var display = window.getComputedStyle(gd).display;\n",
       "        if (!display || display === 'none') {{\n",
       "            console.log([gd, 'removed!']);\n",
       "            Plotly.purge(gd);\n",
       "            observer.disconnect();\n",
       "        }}\n",
       "}});\n",
       "\n",
       "// Listen for the removal of the full notebook cells\n",
       "var notebookContainer = gd.closest('#notebook-container');\n",
       "if (notebookContainer) {{\n",
       "    x.observe(notebookContainer, {childList: true});\n",
       "}}\n",
       "\n",
       "// Listen for the clearing of the current output cell\n",
       "var outputEl = gd.closest('.output');\n",
       "if (outputEl) {{\n",
       "    x.observe(outputEl, {childList: true});\n",
       "}}\n",
       "\n",
       "                        })                };                });            </script>        </div>"
      ]
     },
     "metadata": {},
     "output_type": "display_data"
    }
   ],
   "source": [
    "grouped_data = labels.groupby(\"sign_class\").size().reset_index(name=\"count\")\n",
    "grouped_data = grouped_data.sort_values(by=\"count\", ascending=False)\n",
    "\n",
    "fig = px.bar(\n",
    "    grouped_data, \n",
    "    x =\"sign_class\",\n",
    "    y=\"count\",labels={\"sign_class\" : \"sign_class\"},\n",
    "    color_discrete_sequence=[\"blue\"],\n",
    "    title=f'Distribution of sign_class'\n",
    ")\n",
    "\n",
    "fig.update_layout(width=800, height=400)\n",
    "fig.update_xaxes(showgrid=True)\n",
    "fig.update_yaxes(showgrid=True)\n",
    "\n",
    "fig.show()"
   ]
  },
  {
   "cell_type": "markdown",
   "id": "0746bb3f-6bb9-4333-ad2c-7179f8680697",
   "metadata": {},
   "source": [
    "# Анализ графика\n",
    "Данный график отображает распределение количества экземпляров для различных классов дорожных знаков, обозначенных разными значениями в столбце \"sign_class\". Основные особенности данного распределения:\n",
    "\n",
    "    1.Сильный дисбаланс классов: Некоторые классы, такие как \"5_19_1\", имеют очень большое количество экземпляров (более 24 000), в то время как другие классы, такие как \"3_13_r3.3\", \"2_3_5\", \"3_33\" и другие, имеют всего по 1 или 2 экземпляра.\n",
    "\n",
    "    2.Экспоненциальное распределение: График демонстрирует типичное экспоненциальное распределение, где большинство классов имеют небольшое количество экземпляров, а количество уменьшается по мере увеличения номера класса.\n",
    "\n",
    "    3.Длинный \"хвост\" распределения: На графике видно, что существует большое количество классов с малым числом экземпляров, формируя длинный \"хвост\" распределения.\n",
    "\n",
    "Такой сильный дисбаланс классов может создавать проблемы при построении моделей машинного обучения, поскольку модели могут быть склонны к предсказанию только наиболее представленных классов, игнорируя редкие классы. "
   ]
  },
  {
   "cell_type": "code",
   "execution_count": 19,
   "id": "c7a79df3-feec-4a17-aab6-9fc1dfb22c27",
   "metadata": {},
   "outputs": [
    {
     "data": {
      "text/html": [
       "<div>\n",
       "<style scoped>\n",
       "    .dataframe tbody tr th:only-of-type {\n",
       "        vertical-align: middle;\n",
       "    }\n",
       "\n",
       "    .dataframe tbody tr th {\n",
       "        vertical-align: top;\n",
       "    }\n",
       "\n",
       "    .dataframe thead th {\n",
       "        text-align: right;\n",
       "    }\n",
       "</style>\n",
       "<table border=\"1\" class=\"dataframe\">\n",
       "  <thead>\n",
       "    <tr style=\"text-align: right;\">\n",
       "      <th></th>\n",
       "      <th>count</th>\n",
       "    </tr>\n",
       "  </thead>\n",
       "  <tbody>\n",
       "    <tr>\n",
       "      <th>count</th>\n",
       "      <td>155.000000</td>\n",
       "    </tr>\n",
       "    <tr>\n",
       "      <th>mean</th>\n",
       "      <td>673.277419</td>\n",
       "    </tr>\n",
       "    <tr>\n",
       "      <th>std</th>\n",
       "      <td>2259.578916</td>\n",
       "    </tr>\n",
       "    <tr>\n",
       "      <th>min</th>\n",
       "      <td>1.000000</td>\n",
       "    </tr>\n",
       "    <tr>\n",
       "      <th>25%</th>\n",
       "      <td>34.000000</td>\n",
       "    </tr>\n",
       "    <tr>\n",
       "      <th>50%</th>\n",
       "      <td>126.000000</td>\n",
       "    </tr>\n",
       "    <tr>\n",
       "      <th>75%</th>\n",
       "      <td>434.500000</td>\n",
       "    </tr>\n",
       "    <tr>\n",
       "      <th>max</th>\n",
       "      <td>24264.000000</td>\n",
       "    </tr>\n",
       "  </tbody>\n",
       "</table>\n",
       "</div>"
      ],
      "text/plain": [
       "              count\n",
       "count    155.000000\n",
       "mean     673.277419\n",
       "std     2259.578916\n",
       "min        1.000000\n",
       "25%       34.000000\n",
       "50%      126.000000\n",
       "75%      434.500000\n",
       "max    24264.000000"
      ]
     },
     "execution_count": 19,
     "metadata": {},
     "output_type": "execute_result"
    }
   ],
   "source": [
    "grouped_data.describe()"
   ]
  },
  {
   "cell_type": "markdown",
   "id": "4a78b977-03f6-4408-9861-1d6accdc0407",
   "metadata": {},
   "source": [
    "# Анализ дополнительных статистических данных\n",
    "\n",
    "Проанализировав дополнительные статистические данные, можно сделать следующие выводы:\n",
    "\n",
    "    1.Общее количество записей: 155\n",
    "\n",
    "    2.Среднее количество экземпляров на класс: 673.28\n",
    "        Это довольно высокое среднее значение, указывающее на то, что есть несколько классов с очень большим количеством экземпляров, которые повышают среднее.\n",
    "\n",
    "    3.Стандартное отклонение: 2259.58\n",
    "        Очень высокое стандартное отклонение говорит о большом разбросе значений и сильном дисбалансе между классами.\n",
    "\n",
    "    4.Минимальное значение: 1\n",
    "        Это означает, что есть классы с всего одним экземпляром, что является очень редким случаем.\n",
    "\n",
    "    5.Квартили:\n",
    "        25-й процентиль: 34\n",
    "            Это означает, что 25% классов имеют 34 или меньше экземпляров.\n",
    "        Медиана (50-й процентиль): 126\n",
    "            Половина классов имеют 126 или меньше экземпляров.\n",
    "        75-й процентиль: 434.5\n",
    "            75% классов имеют 434.5 или меньше экземпляров.\n",
    "\n",
    "    6.Максимальное значение: 24264\n",
    "        Это очень высокое значение, намного превышающее среднее и медиану, что подтверждает наличие одного или нескольких классов с огромным количеством экземпляров.\n",
    "\n",
    "Эти статистические показатели четко демонстрируют сильный дисбаланс в распределении данных по классам. Необходимы меры по сбалансированию данных, такие как oversampling редких классов или undersampling распространенных классов, чтобы избежать смещения моделей машинного обучения в сторону наиболее представленных классов."
   ]
  },
  {
   "cell_type": "code",
   "execution_count": null,
   "id": "5166c4ae-df25-4361-8576-89870ff36f5f",
   "metadata": {},
   "outputs": [],
   "source": []
  }
 ],
 "metadata": {
  "kernelspec": {
   "display_name": "Python 3 (ipykernel)",
   "language": "python",
   "name": "python3"
  },
  "language_info": {
   "codemirror_mode": {
    "name": "ipython",
    "version": 3
   },
   "file_extension": ".py",
   "mimetype": "text/x-python",
   "name": "python",
   "nbconvert_exporter": "python",
   "pygments_lexer": "ipython3",
   "version": "3.12.3"
  }
 },
 "nbformat": 4,
 "nbformat_minor": 5
}
