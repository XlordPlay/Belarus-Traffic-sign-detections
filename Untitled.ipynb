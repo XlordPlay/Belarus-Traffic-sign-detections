{
 "cells": [
  {
   "cell_type": "code",
   "execution_count": null,
   "id": "ef159f89-cd45-44a7-866e-3cb829b398a6",
   "metadata": {},
   "outputs": [],
   "source": [
    "#standart library\n",
    "import os\n",
    "import logging\n",
    "from datetime import datetime\n",
    "\n",
    "#science library\n",
    "import numpy as np\n",
    "import pandas as pd\n",
    "\n",
    "#image processing\n",
    "from PIL import Image\n",
    "from tensorflow.keras.preprocessing.image import img_to_array\n",
    "from torchvision import transforms\n",
    "\n",
    "#models and Keras/TensorFlow layers\n",
    "from keras.models import Sequential, load_model\n",
    "from keras.layers import Conv2D, MaxPool2D, Dense, Flatten, Dropout\n",
    "from keras.utils import to_categorical\n",
    "from tensorflow.keras import backend as K\n",
    "\n",
    "#visualizations\n",
    "import matplotlib\n",
    "import matplotlib.pyplot as plt\n",
    "import matplotlib.patches as patches\n",
    "import plotly.express as px\n",
    "import plotly.graph_objects as go\n",
    "\n",
    "#machine learning\n",
    "from sklearn.model_selection import train_test_split\n",
    "from sklearn.metrics import accuracy_score\n"
   ]
  },
  {
   "cell_type": "code",
   "execution_count": 4,
   "id": "ebd7013f-18c8-4b6f-9458-36b849106a78",
   "metadata": {},
   "outputs": [
    {
     "name": "stdout",
     "output_type": "stream",
     "text": [
      "Resuming download from 1380974592 bytes (17024402776 bytes left)...\n",
      "Resuming download from https://www.kaggle.com/api/v1/datasets/download/watchman/rtsd-dataset?dataset_version_number=3 (1380974592/18405377368) bytes left.\n"
     ]
    },
    {
     "name": "stderr",
     "output_type": "stream",
     "text": [
      "100%|████████████████████████████████████████████████████████████████████████████████████████████████████████████| 17.1G/17.1G [49:41<00:00, 5.71MB/s]"
     ]
    },
    {
     "name": "stdout",
     "output_type": "stream",
     "text": [
      "Extracting files...\n"
     ]
    },
    {
     "name": "stderr",
     "output_type": "stream",
     "text": [
      "\n"
     ]
    },
    {
     "name": "stdout",
     "output_type": "stream",
     "text": [
      "Path to dataset files: /home/xlordplay/.cache/kagglehub/datasets/watchman/rtsd-dataset/versions/3\n"
     ]
    }
   ],
   "source": [
    "import kagglehub\n",
    "\n",
    "# Download latest version\n",
    "path = kagglehub.dataset_download(\"watchman/rtsd-dataset\")\n",
    "\n",
    "print(\"Path to dataset files:\", path)"
   ]
  },
  {
   "cell_type": "code",
   "execution_count": null,
   "id": "103b72d0-ee22-4ceb-8e55-b149037583b9",
   "metadata": {},
   "outputs": [],
   "source": []
  }
 ],
 "metadata": {
  "kernelspec": {
   "display_name": "Python 3 (ipykernel)",
   "language": "python",
   "name": "python3"
  },
  "language_info": {
   "codemirror_mode": {
    "name": "ipython",
    "version": 3
   },
   "file_extension": ".py",
   "mimetype": "text/x-python",
   "name": "python",
   "nbconvert_exporter": "python",
   "pygments_lexer": "ipython3",
   "version": "3.12.3"
  }
 },
 "nbformat": 4,
 "nbformat_minor": 5
}
